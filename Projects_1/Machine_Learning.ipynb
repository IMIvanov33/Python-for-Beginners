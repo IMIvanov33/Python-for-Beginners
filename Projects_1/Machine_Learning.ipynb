{
 "cells": [
  {
   "cell_type": "code",
   "execution_count": 44,
   "id": "e350d3e9-dae6-42d3-80a8-a0135ff5bff3",
   "metadata": {},
   "outputs": [],
   "source": [
    "import pandas as pd\n",
    "from sklearn.tree import DecisionTreeClassifier\n",
    "from sklearn import tree\n",
    "\n",
    "music_data = pd.read_csv('music.csv')\n",
    "X = music_data.drop(columns=['genre'])\n",
    "y = music_data['genre']\n",
    "\n",
    "model = DecisionTreeClassifier()\n",
    "model.fit(X, y)\n",
    "\n",
    "tree.export_graphviz(model, out_file='music-recommende.dot',\n",
    "                            feature_names =['age', 'gender'],\n",
    "                            class_names=sorted(y.unique()),\n",
    "                            label='all',\n",
    "                            rounded=True,\n",
    "                            filled=True)"
   ]
  },
  {
   "cell_type": "code",
   "execution_count": null,
   "id": "01dc9e7c-164b-45b0-b70e-86522703710a",
   "metadata": {},
   "outputs": [],
   "source": []
  }
 ],
 "metadata": {
  "kernelspec": {
   "display_name": "",
   "name": ""
  },
  "language_info": {
   "name": ""
  }
 },
 "nbformat": 4,
 "nbformat_minor": 5
}
